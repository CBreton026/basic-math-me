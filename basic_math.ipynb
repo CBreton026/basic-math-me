{
 "cells": [
  {
   "cell_type": "markdown",
   "id": "89a371b4-de90-468c-98ae-0d1d8696e7e5",
   "metadata": {},
   "source": [
    "This is a test notebook"
   ]
  },
  {
   "cell_type": "code",
   "execution_count": null,
   "id": "48abdbce-48ce-4e73-96cd-72b7b6476d15",
   "metadata": {},
   "outputs": [],
   "source": [
    "a =  189\n",
    "a + 10"
   ]
  },
  {
   "cell_type": "markdown",
   "id": "e5bc4e8d-becf-4206-92a4-479e29edae35",
   "metadata": {},
   "source": [
    "This is another new cell for a review"
   ]
  },
  {
   "cell_type": "code",
   "execution_count": null,
   "id": "5c0c6f4d",
   "metadata": {},
   "outputs": [],
   "source": [
    "b = 199\n",
    "b+10"
   ]
  },
  {
   "cell_type": "code",
   "execution_count": null,
   "id": "a0d893eb",
   "metadata": {},
   "outputs": [],
   "source": [
    "c = 'new_variable'"
   ]
  }
 ],
 "metadata": {
  "kernelspec": {
   "display_name": "bw25",
   "language": "python",
   "name": "python3"
  },
  "language_info": {
   "codemirror_mode": {
    "name": "ipython",
    "version": 3
   },
   "file_extension": ".py",
   "mimetype": "text/x-python",
   "name": "python",
   "nbconvert_exporter": "python",
   "pygments_lexer": "ipython3",
   "version": "3.11.10"
  }
 },
 "nbformat": 4,
 "nbformat_minor": 5
}
